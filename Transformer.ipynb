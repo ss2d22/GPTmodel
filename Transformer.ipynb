{
 "cells": [
  {
   "cell_type": "markdown",
   "id": "492ffea2-09f9-41e1-992a-57691593bd88",
   "metadata": {},
   "source": [
    "## The transformer architecture\n",
    "\n",
    "<div>\n",
    "<img src=\"https://heidloff.net/assets/img/2023/02/transformers.png\" width=\"800\"/>\n",
    "</div\n",
    "\n"
   ]
  },
  {
   "cell_type": "code",
   "execution_count": null,
   "id": "396140b0-defc-4127-91c7-037ec86fe787",
   "metadata": {},
   "outputs": [],
   "source": []
  }
 ],
 "metadata": {
  "kernelspec": {
   "display_name": "yungting-gpt",
   "language": "python",
   "name": "yugpt"
  },
  "language_info": {
   "codemirror_mode": {
    "name": "ipython",
    "version": 3
   },
   "file_extension": ".py",
   "mimetype": "text/x-python",
   "name": "python",
   "nbconvert_exporter": "python",
   "pygments_lexer": "ipython3",
   "version": "3.12.4"
  }
 },
 "nbformat": 4,
 "nbformat_minor": 5
}
