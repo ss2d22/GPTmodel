{
 "cells": [
  {
   "cell_type": "code",
   "execution_count": 1,
   "id": "d14f49a7-df11-47e2-a7e7-be6946e517e8",
   "metadata": {},
   "outputs": [
    {
     "name": "stdout",
     "output_type": "stream",
     "text": [
      "2.4.0+cu124\n"
     ]
    }
   ],
   "source": [
    "import torch\n",
    "print(torch.__version__)\n",
    "import time\n",
    "import numpy as np"
   ]
  },
  {
   "cell_type": "markdown",
   "id": "3366f293-d71e-4409-856a-33925f708d46",
   "metadata": {},
   "source": [
    "## 1) Generate tensors with random numbers\n",
    "- we can generate a tensor with specific number of random numbers in a specified range.\n",
    "- we will use this while getting random batches from our training data (e.g. the romeo and juliet book)"
   ]
  },
  {
   "cell_type": "code",
   "execution_count": 2,
   "id": "0fc23b14-cb89-4bbf-b05f-97a7342fade3",
   "metadata": {},
   "outputs": [
    {
     "name": "stdout",
     "output_type": "stream",
     "text": [
      "tensor([  2,  62,  76,  28, -29,  22])\n"
     ]
    }
   ],
   "source": [
    "randint = torch.randint(-100,100, (6,))\n",
    "print(randint)"
   ]
  },
  {
   "cell_type": "markdown",
   "id": "284ef2ee-d765-4296-bf8b-f50d1788c26e",
   "metadata": {},
   "source": [
    "## 2) Creating tensors\n",
    "- we use ``` torch.tensor() ``` to create a tensor where pass in values to create a tensor"
   ]
  },
  {
   "cell_type": "code",
   "execution_count": 3,
   "id": "38c9b4b9-637a-4def-abae-e48b1d8aa211",
   "metadata": {},
   "outputs": [
    {
     "name": "stdout",
     "output_type": "stream",
     "text": [
      "tensor([[19.1000, 25.0600],\n",
      "        [ 0.6000,  0.4000],\n",
      "        [ 1.8000,  2.0000]])\n"
     ]
    }
   ],
   "source": [
    "tensor = torch.tensor([[19.10,25.06],[0.6,0.4],[1.8,2.0]])\n",
    "print(tensor)"
   ]
  },
  {
   "cell_type": "markdown",
   "id": "dcba7062-b8c1-4254-9470-4fc00420d82c",
   "metadata": {},
   "source": [
    "## 3) Creating a tensor filled with zeros\n",
    "- creating a tensor with set dimensions filled with zeros\n",
    "- we use ``` torch.zeros(x,y,z,...) ``` we can make a tensor filled with 0s of any valid dimension with it"
   ]
  },
  {
   "cell_type": "code",
   "execution_count": 4,
   "id": "a29cedc5-d630-4011-9bb9-c3b1ffcfd0c6",
   "metadata": {},
   "outputs": [
    {
     "name": "stdout",
     "output_type": "stream",
     "text": [
      "tensor([[0., 0., 0.],\n",
      "        [0., 0., 0.]])\n"
     ]
    }
   ],
   "source": [
    "zeros = torch.zeros(2,3)\n",
    "print(zeros)"
   ]
  },
  {
   "cell_type": "markdown",
   "id": "64dc35a1-55a8-4d54-bdce-d8ed7ac66122",
   "metadata": {},
   "source": [
    "## 3) Creating a tensor filled with ones\n",
    "- creating a tensor with set dimensions filled with ones\n",
    "- we use ``` torch.ones(x,y,z,...) ``` we can make a tensor filled with 1s of any valid dimension with it"
   ]
  },
  {
   "cell_type": "code",
   "execution_count": 5,
   "id": "ddc77408-3558-4f94-83c4-e48c1493bc81",
   "metadata": {},
   "outputs": [
    {
     "name": "stdout",
     "output_type": "stream",
     "text": [
      "tensor([[1., 1., 1.],\n",
      "        [1., 1., 1.]])\n"
     ]
    }
   ],
   "source": [
    "ones = torch.ones(2,3)\n",
    "print(ones)"
   ]
  },
  {
   "cell_type": "markdown",
   "id": "f3493c62-6b7a-4d73-8c25-d9442c987f48",
   "metadata": {},
   "source": [
    "## 3) Creating an empty tensor\n",
    "- creating a tensor with set dimensions filled with very small or large numbers\n",
    "- we use ``` torch.empty(x,y,z,...) ``` we can make a tensor filled with  very small or large number of any valid dimension with it"
   ]
  },
  {
   "cell_type": "code",
   "execution_count": 6,
   "id": "cf15befa-f69e-4dfb-985f-478d1c368ad1",
   "metadata": {},
   "outputs": [
    {
     "name": "stdout",
     "output_type": "stream",
     "text": [
      "tensor([[-1.6832e-16,  1.4616e-42,  0.0000e+00,  0.0000e+00,  0.0000e+00,\n",
      "          0.0000e+00],\n",
      "        [ 0.0000e+00,  0.0000e+00,  0.0000e+00,  0.0000e+00,  0.0000e+00,\n",
      "          0.0000e+00],\n",
      "        [ 0.0000e+00,  0.0000e+00,  0.0000e+00,  0.0000e+00,  0.0000e+00,\n",
      "          0.0000e+00]])\n",
      "tensor([[0, 0, 0, 0],\n",
      "        [0, 0, 0, 0],\n",
      "        [0, 0, 0, 0]])\n"
     ]
    }
   ],
   "source": [
    "empty = torch.empty(3,6)\n",
    "print(empty)\n",
    "\n",
    "emptyType = torch.empty((3,4), dtype=torch.int64)\n",
    "print(emptyType)"
   ]
  },
  {
   "cell_type": "markdown",
   "id": "b190455d-aadc-4040-bacb-c0f83ff03425",
   "metadata": {},
   "source": [
    "## 4) Creating a sorted tensor\n",
    "- we use ``` torch.arange() ``` to create a tensor that is sorted, we can pass in a step value and start and end values so that it is sorted and has values which go from start to finish with the step value as difference between each value. If we just pass in a number it will have a step valye of 1 and end after that many numbers (the number is treated as the end value)"
   ]
  },
  {
   "cell_type": "code",
   "execution_count": 7,
   "id": "5563fa95-9375-41b6-80ec-bfe47c626dbb",
   "metadata": {},
   "outputs": [
    {
     "name": "stdout",
     "output_type": "stream",
     "text": [
      "tensor([0, 1, 2, 3, 4, 5, 6])\n"
     ]
    }
   ],
   "source": [
    "aranged = torch.arange(7)\n",
    "print(aranged)"
   ]
  },
  {
   "cell_type": "markdown",
   "id": "1fd79e01-f70e-4919-9de4-77dcbb382a17",
   "metadata": {},
   "source": [
    "## 5) Using linspace to create a tensor\n",
    "- linspace takes in a start end and step value it goes from start to end in that many steps. in arrange the step is the differnce between each value, in linspace steps is the amount of total values that should be there.\n",
    "- e.g in linspace if you have a step of 4 , there will be 4 values in total and difference is based on the start and end but in arrange the difference will be 4 if the step is 4\n",
    "- a tensor is created with linspace using ``` torch.linspace() ```"
   ]
  },
  {
   "cell_type": "code",
   "execution_count": 8,
   "id": "2c2c2c7c-d3c0-4c54-a3d5-b6df13ba7c37",
   "metadata": {},
   "outputs": [
    {
     "name": "stdout",
     "output_type": "stream",
     "text": [
      "tensor([19.0000, 20.5000, 22.0000, 23.5000, 25.0000])\n"
     ]
    }
   ],
   "source": [
    "linspace = torch.linspace(19,25, steps=5)\n",
    "print(linspace)"
   ]
  },
  {
   "cell_type": "markdown",
   "id": "ff415b79-1243-45ae-81b8-7abe55303ba8",
   "metadata": {},
   "source": [
    "## 10) Using logspace to create a tensor\n",
    "- same as above but in log"
   ]
  },
  {
   "cell_type": "code",
   "execution_count": 9,
   "id": "9ca2579e-3cc8-4ebb-9c3f-e51183392efb",
   "metadata": {},
   "outputs": [
    {
     "name": "stdout",
     "output_type": "stream",
     "text": [
      "tensor([1.0000e-15, 3.1623e-08, 1.0000e+00, 3.1623e+07, 1.0000e+15])\n"
     ]
    }
   ],
   "source": [
    "logspace = torch.logspace( -15 , 15 , steps=5)\n",
    "print(logspace)"
   ]
  },
  {
   "cell_type": "markdown",
   "id": "8cf549ac-16d7-4c28-91e1-99fc08b641a4",
   "metadata": {},
   "source": [
    "## 11) Creating a tensor with eye\n",
    "- using ``` torch.eye() ``` we make a tensor with diagonal 1s , kinda looks like reduced row echelon form"
   ]
  },
  {
   "cell_type": "code",
   "execution_count": 23,
   "id": "e02f41d2-a954-4c57-bbec-7312fad5f383",
   "metadata": {},
   "outputs": [
    {
     "name": "stdout",
     "output_type": "stream",
     "text": [
      "tensor([[1., 0., 0., 0., 0.],\n",
      "        [0., 1., 0., 0., 0.],\n",
      "        [0., 0., 1., 0., 0.],\n",
      "        [0., 0., 0., 1., 0.],\n",
      "        [0., 0., 0., 0., 1.]])\n"
     ]
    }
   ],
   "source": [
    "eye = torch.eye(5)\n",
    "print(eye)"
   ]
  },
  {
   "cell_type": "markdown",
   "id": "b3d7fcff-933f-43ae-b1cc-8e4c18b15771",
   "metadata": {},
   "source": [
    "## 12) Using empty like to make a tensor\n",
    "- create an empty tensor like the one that is passed in (sane dimensions)"
   ]
  },
  {
   "cell_type": "code",
   "execution_count": 24,
   "id": "8ac9c86b-7f14-476f-9c20-1c0e06f82d5d",
   "metadata": {},
   "outputs": [
    {
     "name": "stdout",
     "output_type": "stream",
     "text": [
      "tensor([[-1.6663e-16,  1.4616e-42,  0.0000e+00,  9.2196e-41,  2.3694e-38],\n",
      "        [ 3.6013e-43,  2.3694e-38,  2.3694e-38,  2.3694e-38,  0.0000e+00],\n",
      "        [ 0.0000e+00,  0.0000e+00,  0.0000e+00,  0.0000e+00,  0.0000e+00],\n",
      "        [ 0.0000e+00,  0.0000e+00,  0.0000e+00,  0.0000e+00,  0.0000e+00],\n",
      "        [ 0.0000e+00,  0.0000e+00,  0.0000e+00,  0.0000e+00,  0.0000e+00]])\n"
     ]
    }
   ],
   "source": [
    "like = torch.empty_like(eye)\n",
    "print(like)"
   ]
  },
  {
   "cell_type": "markdown",
   "id": "3145ba13-479a-4ba3-9f17-ad7f95cca725",
   "metadata": {},
   "source": [
    "## 13) Multinomial distrubtion with tensors\n",
    "- we will use this for predictions\n",
    "    - [ 0 ,    1]\n",
    "    - [0.3,  0.7]\n",
    "    - 0.3 is index 0 , 0.7 is index 1\n",
    "    - 0.3 * 100 = 30%\n",
    "    - <u> \\+ 0.7 * 100 = 70% </u>\n",
    "    - 1 * 100 = 100%"
   ]
  },
  {
   "cell_type": "code",
   "execution_count": 28,
   "id": "aaf8ea26-bd88-4b27-a7d6-e842f028b1b5",
   "metadata": {},
   "outputs": [
    {
     "name": "stdout",
     "output_type": "stream",
     "text": [
      "tensor([1, 1, 1, 1, 0, 1, 0, 0, 1, 0])\n"
     ]
    }
   ],
   "source": [
    "probabilities = torch.tensor([0.3,0.7]) #30% , 70% , adds up to 100%\n",
    "# 30% chance we get 0 (index), 70% change we get 1 (index)\n",
    "\n",
    "distributed = torch.multinomial(probabilities, num_samples=10, replacement=True)\n",
    "\n",
    "print(distributed)"
   ]
  },
  {
   "cell_type": "markdown",
   "id": "bf5c1890-a7e4-4c14-9748-860988b67465",
   "metadata": {},
   "source": [
    "## 14) Concatanating tensors\n",
    "- we will use this while generating texts, we will concatnate what we predicted with what we are predicting nopw and so on\n",
    "- e.g. [1,2,3,4] with [8,9,5,4] combined to make one tensor [1,2,3,4,8,9,5,4] which decoded back might be 'yungting' for example"
   ]
  },
  {
   "cell_type": "code",
   "execution_count": 13,
   "id": "a420566b-902e-47cf-9289-e3bccc4fa2b1",
   "metadata": {},
   "outputs": [
    {
     "name": "stdout",
     "output_type": "stream",
     "text": [
      "tensor([1, 2, 3, 4, 5, 6, 7, 8])\n"
     ]
    }
   ],
   "source": [
    "tensor1 = torch.tensor([1,2,3,4])\n",
    "tensor2 = torch.tensor([5,6,7,8])\n",
    "\n",
    "combined = torch.cat((tensor1,tensor2),dim=0)\n",
    "\n",
    "print(combined)"
   ]
  },
  {
   "cell_type": "markdown",
   "id": "c8127c20-bfa6-4ef0-a641-aa8b28ae6b53",
   "metadata": {},
   "source": [
    "## 15) Using tril (Triangle Lower)\n",
    "- this blocks the future and gives one more context each time so that so that there is more knowledge/history as you go down so that we wont predict while seeing/ copying the answer\n",
    "- tril means triangle lower as when you go lower more future context is there"
   ]
  },
  {
   "cell_type": "code",
   "execution_count": 14,
   "id": "68b1819c-b1e9-459b-9509-0bbd072cfa7f",
   "metadata": {
    "scrolled": true
   },
   "outputs": [
    {
     "name": "stdout",
     "output_type": "stream",
     "text": [
      "tensor([[1., 0., 0., 0., 0., 0.],\n",
      "        [1., 1., 0., 0., 0., 0.],\n",
      "        [1., 1., 1., 0., 0., 0.],\n",
      "        [1., 1., 1., 1., 0., 0.],\n",
      "        [1., 1., 1., 1., 1., 0.],\n",
      "        [1., 1., 1., 1., 1., 1.]])\n",
      "tensor([[19.1000,  0.0000,  0.0000,  0.0000,  0.0000,  0.0000],\n",
      "        [ 0.6000,  0.4000,  0.0000,  0.0000,  0.0000,  0.0000],\n",
      "        [ 1.8000,  2.0000,  3.0000,  0.0000,  0.0000,  0.0000],\n",
      "        [19.1000, 25.0600,  3.0000,  4.0000,  0.0000,  0.0000],\n",
      "        [ 0.6000,  0.4000,  3.0000,  4.0000,  5.0000,  0.0000],\n",
      "        [ 1.8000,  2.0000,  3.0000,  4.0000,  5.0000,  6.0000]])\n"
     ]
    }
   ],
   "source": [
    "tril = torch.tril(torch.ones(6,6))\n",
    "anotherTensor = torch.tensor([[19.10,25.06,3,4,5,6],[0.6,0.4,3,4,5,6],[1.8,2.0,3,4,5,6],[19.10,25.06,3,4,5,6],[0.6,0.4,3,4,5,6],[1.8,2.0,3,4,5,6]])\n",
    "tril2 = torch.tril(anotherTensor)\n",
    "print(tril)\n",
    "print(tril2)"
   ]
  },
  {
   "cell_type": "markdown",
   "id": "0b4fbfba-de90-4a0c-ad4f-d0e9ad22c3dd",
   "metadata": {},
   "source": [
    "## 16) Using triu (Triangle Upper)\n",
    "- opposite of triangle lower shown above\n"
   ]
  },
  {
   "cell_type": "code",
   "execution_count": 15,
   "id": "0e7ec8b6-67e3-40e8-98ac-fb5fdc4df78a",
   "metadata": {},
   "outputs": [
    {
     "name": "stdout",
     "output_type": "stream",
     "text": [
      "tensor([[1., 1., 1., 1., 1.],\n",
      "        [0., 1., 1., 1., 1.],\n",
      "        [0., 0., 1., 1., 1.],\n",
      "        [0., 0., 0., 1., 1.],\n",
      "        [0., 0., 0., 0., 1.]])\n"
     ]
    }
   ],
   "source": [
    "triu = torch.triu(torch.ones(5,5))\n",
    "print(triu)"
   ]
  },
  {
   "cell_type": "markdown",
   "id": "ab36bfb6-6e9e-4529-886b-0a35f821c736",
   "metadata": {},
   "source": [
    "## 17) Masked fill & exponentiation\n",
    "- very important\n",
    "- to reach the stage above , all that needs to be done is exponentiate each element ,explained better with the example below :\n",
    "- e.g.\n",
    "    - the  ```torcj.exp()``` function uses a constant of 2.71\n",
    "    - when 2.71 is exponentiated with 0 it results in 1\n",
    "    - when it is exponentiated with 1 it results in 2.71\n",
    "    - when it is exponentiated with '-inf'it results in 0"
   ]
  },
  {
   "cell_type": "code",
   "execution_count": 30,
   "id": "610ab727-39b6-44c0-92e1-966936c51633",
   "metadata": {},
   "outputs": [
    {
     "name": "stdout",
     "output_type": "stream",
     "text": [
      "masked : \n",
      "tensor([[0., -inf, -inf, -inf, -inf, -inf],\n",
      "        [0., 0., -inf, -inf, -inf, -inf],\n",
      "        [0., 0., 0., -inf, -inf, -inf],\n",
      "        [0., 0., 0., 0., -inf, -inf],\n",
      "        [0., 0., 0., 0., 0., -inf],\n",
      "        [0., 0., 0., 0., 0., 0.]])\n",
      "\n",
      "exponentiated : \n"
     ]
    },
    {
     "data": {
      "text/plain": [
       "tensor([[1., 0., 0., 0., 0., 0.],\n",
       "        [1., 1., 0., 0., 0., 0.],\n",
       "        [1., 1., 1., 0., 0., 0.],\n",
       "        [1., 1., 1., 1., 0., 0.],\n",
       "        [1., 1., 1., 1., 1., 0.],\n",
       "        [1., 1., 1., 1., 1., 1.]])"
      ]
     },
     "execution_count": 30,
     "metadata": {},
     "output_type": "execute_result"
    }
   ],
   "source": [
    "masked_fill = torch.zeros(6,6).masked_fill(torch.tril(torch.ones(6,6)) == 0, float('-inf'))\n",
    "print('masked : ')\n",
    "print(masked_fill)\n",
    "print()\n",
    "print('exponentiated : ')\n",
    "torch.exp(masked_fill)"
   ]
  },
  {
   "cell_type": "markdown",
   "id": "7969a06d-b5ee-492f-a997-21841585fb97",
   "metadata": {},
   "source": [
    "## 18) Transposing tensors\n",
    "-"
   ]
  },
  {
   "cell_type": "code",
   "execution_count": 17,
   "id": "1cc306cd-fbbe-464b-aa18-e1cab24f8b2a",
   "metadata": {},
   "outputs": [
    {
     "data": {
      "text/plain": [
       "torch.Size([5, 4, 3])"
      ]
     },
     "execution_count": 17,
     "metadata": {},
     "output_type": "execute_result"
    }
   ],
   "source": [
    "to_transpose = torch.zeros(3,4,5)\n",
    "transposed = to_transpose.transpose(0,2)\n",
    "transposed.shape"
   ]
  },
  {
   "cell_type": "markdown",
   "id": "cee15c58-0874-4437-827c-d164dacd3e5a",
   "metadata": {},
   "source": [
    "## 19)"
   ]
  },
  {
   "cell_type": "code",
   "execution_count": null,
   "id": "d03c8843-67c5-4e1f-b37f-de4aaabb4c3b",
   "metadata": {},
   "outputs": [],
   "source": []
  },
  {
   "cell_type": "markdown",
   "id": "6d50ae5f-1e8b-4aac-b2b7-27a0da0aad04",
   "metadata": {},
   "source": [
    "## 20)"
   ]
  },
  {
   "cell_type": "code",
   "execution_count": null,
   "id": "ed5d3cf2-d28d-4cc6-a505-d48a34849111",
   "metadata": {},
   "outputs": [],
   "source": []
  },
  {
   "cell_type": "markdown",
   "id": "36847cd2-051e-4ec3-88ed-275b00b422bf",
   "metadata": {},
   "source": [
    "# CPU vs GPU "
   ]
  },
  {
   "cell_type": "code",
   "execution_count": 18,
   "id": "f17da2a7-ce65-41f6-b751-72f4001c23d1",
   "metadata": {},
   "outputs": [
    {
     "name": "stdout",
     "output_type": "stream",
     "text": [
      "cuda\n"
     ]
    }
   ],
   "source": [
    "device = 'cuda' if torch.cuda.is_available() else 'cpu'\n",
    "print(device)"
   ]
  },
  {
   "cell_type": "markdown",
   "id": "41bdd6c7-31d2-43ae-a46b-197be2bfc985",
   "metadata": {},
   "source": [
    "## 13) how long does our gpu take for creating a 1x1 tensor with zeros?"
   ]
  },
  {
   "cell_type": "code",
   "execution_count": 19,
   "id": "55c36b8e-54b9-426c-a7f8-a5c87f92390c",
   "metadata": {},
   "outputs": [
    {
     "name": "stdout",
     "output_type": "stream",
     "text": [
      "0.0000000000000000000000000000000000000000000000000000000000000000000000000000000000000000000000000000000000000000000000000000000000000000000000000000000000000000000000000000000000000000000000000000000000000000000000000000000000000000000000000000000000000000000000000000000000000000000000000000000000000000000000000000000000000000000000000000000000000000000000000000000000000000000000000000000000000000000000000000000000000000000000000000000000000000000000000000000000000000000000000000000000000000000000000000000000000000000000000000000000000000000000000000000000000000000000000000000000000000000000000000000000000000000000000000000000000000000000000000000000000000000000000000000000000000000000000000000000000000000000000000000000000000000000000000000000000000000000000000000000000000000000000000000000000000000000000000000000000000000000000000000000000000000000000000000000000000000000000000000000000000000000000000000000000000000000000000000000000000000000000000000000000000000000000000000000000000\n",
      "CPU times: total: 0 ns\n",
      "Wall time: 0 ns\n"
     ]
    }
   ],
   "source": [
    "%%time\n",
    "start_time = time.time()\n",
    "\n",
    "zeros = torch.zeros(1,1)\n",
    "\n",
    "end_time = time.time()\n",
    "\n",
    "time_elapsed = end_time - start_time\n",
    "print(f\"{time_elapsed:.1000f}\")"
   ]
  },
  {
   "cell_type": "markdown",
   "id": "128a4b00-92af-4f7b-93c2-366da0f8cdb0",
   "metadata": {},
   "source": [
    "- since the above example is quite simple and too small we cannot see how much time it takes ,we can copare a calculation that is done with numpy on cpu and the same with torch on gpu for a better comparison below : "
   ]
  },
  {
   "cell_type": "code",
   "execution_count": null,
   "id": "4b233a3e-acb9-463a-8e06-07fc9ddbd998",
   "metadata": {},
   "outputs": [],
   "source": [
    "%%time\n",
    "#pls change this to 10k or lower based on your hardware i have a fully specced out pc with a 4090 so wanted to play around hahah\n",
    "torch_rand1 = torch.rand(40000, 40000).to(device)\n",
    "torch_rand2 = torch.rand(40000, 40000).to(device)\n",
    "np_rand1 = torch.rand(40000,40000)\n",
    "np_rand2 = torch.rand(40000,40000)\n",
    "\n",
    "print(\"torch using gpu: \")\n",
    "\n",
    "start_time = time.time()\n",
    "\n",
    "rand = (torch_rand1 @ torch_rand2)\n",
    "\n",
    "end_time = time.time()\n",
    "time_elapsed = end_time - start_time\n",
    "print(f\"{time_elapsed:.10f}\")\n",
    "\n",
    "\n",
    "print(\"numpy using cpu: \")\n",
    "\n",
    "start_time = time.time()\n",
    "\n",
    "rand = np.multiply(np_rand1, np_rand2)\n",
    "end_time = time.time()\n",
    "time_elapsed = end_time - start_time\n",
    "print(f\"{time_elapsed:.10f}\")"
   ]
  },
  {
   "cell_type": "code",
   "execution_count": null,
   "id": "722625a9-03b9-43c6-b13f-8e6efa5bf253",
   "metadata": {},
   "outputs": [],
   "source": []
  }
 ],
 "metadata": {
  "kernelspec": {
   "display_name": "yungting-gpt",
   "language": "python",
   "name": "yugpt"
  },
  "language_info": {
   "codemirror_mode": {
    "name": "ipython",
    "version": 3
   },
   "file_extension": ".py",
   "mimetype": "text/x-python",
   "name": "python",
   "nbconvert_exporter": "python",
   "pygments_lexer": "ipython3",
   "version": "3.12.4"
  }
 },
 "nbformat": 4,
 "nbformat_minor": 5
}
