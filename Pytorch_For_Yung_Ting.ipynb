{
 "cells": [
  {
   "cell_type": "code",
   "execution_count": 1,
   "id": "d14f49a7-df11-47e2-a7e7-be6946e517e8",
   "metadata": {},
   "outputs": [
    {
     "name": "stdout",
     "output_type": "stream",
     "text": [
      "2.6.0.dev20240927\n"
     ]
    }
   ],
   "source": [
    "import torch\n",
    "print(torch.__version__)\n",
    "import time\n",
    "import numpy as np"
   ]
  },
  {
   "cell_type": "markdown",
   "id": "3366f293-d71e-4409-856a-33925f708d46",
   "metadata": {},
   "source": [
    "## 1) Generate tensors with random numbers\n",
    "- we can generate a tensor with specific number of random numbers in a specified range.\n",
    "- we will use this while getting random batches from our training data (e.g. the romeo and juliet book)"
   ]
  },
  {
   "cell_type": "code",
   "execution_count": 2,
   "id": "0fc23b14-cb89-4bbf-b05f-97a7342fade3",
   "metadata": {},
   "outputs": [
    {
     "name": "stdout",
     "output_type": "stream",
     "text": [
      "tensor([-66, -87,  75,  37, -49,  78])\n"
     ]
    }
   ],
   "source": [
    "randint = torch.randint(-100,100, (6,))\n",
    "print(randint)"
   ]
  },
  {
   "cell_type": "markdown",
   "id": "284ef2ee-d765-4296-bf8b-f50d1788c26e",
   "metadata": {},
   "source": [
    "## 2) Creating tensors\n",
    "- we use ``` torch.tensor() ``` to create a tensor where pass in values to create a tensor"
   ]
  },
  {
   "cell_type": "code",
   "execution_count": 3,
   "id": "38c9b4b9-637a-4def-abae-e48b1d8aa211",
   "metadata": {},
   "outputs": [
    {
     "name": "stdout",
     "output_type": "stream",
     "text": [
      "tensor([[19.1000, 25.0600],\n",
      "        [ 0.6000,  0.4000],\n",
      "        [ 1.8000,  2.0000]])\n"
     ]
    }
   ],
   "source": [
    "tensor = torch.tensor([[19.10,25.06],[0.6,0.4],[1.8,2.0]])\n",
    "print(tensor)"
   ]
  },
  {
   "cell_type": "markdown",
   "id": "dcba7062-b8c1-4254-9470-4fc00420d82c",
   "metadata": {},
   "source": [
    "## 3) Creating a tensor filled with zeros\n",
    "- creating a tensor with set dimensions filled with zeros\n",
    "- we use ``` torch.zeros(x,y,z,...) ``` we can make a tensor filled with 0s of any valid dimension with it"
   ]
  },
  {
   "cell_type": "code",
   "execution_count": 4,
   "id": "a29cedc5-d630-4011-9bb9-c3b1ffcfd0c6",
   "metadata": {},
   "outputs": [
    {
     "name": "stdout",
     "output_type": "stream",
     "text": [
      "tensor([[0., 0., 0.],\n",
      "        [0., 0., 0.]])\n"
     ]
    }
   ],
   "source": [
    "zeros = torch.zeros(2,3)\n",
    "print(zeros)"
   ]
  },
  {
   "cell_type": "markdown",
   "id": "64dc35a1-55a8-4d54-bdce-d8ed7ac66122",
   "metadata": {},
   "source": [
    "## 3) Creating a tensor filled with ones\n",
    "- creating a tensor with set dimensions filled with ones\n",
    "- we use ``` torch.ones(x,y,z,...) ``` we can make a tensor filled with 1s of any valid dimension with it"
   ]
  },
  {
   "cell_type": "code",
   "execution_count": 5,
   "id": "ddc77408-3558-4f94-83c4-e48c1493bc81",
   "metadata": {},
   "outputs": [
    {
     "name": "stdout",
     "output_type": "stream",
     "text": [
      "tensor([[1., 1., 1.],\n",
      "        [1., 1., 1.]])\n"
     ]
    }
   ],
   "source": [
    "ones = torch.ones(2,3)\n",
    "print(ones)"
   ]
  },
  {
   "cell_type": "markdown",
   "id": "f3493c62-6b7a-4d73-8c25-d9442c987f48",
   "metadata": {},
   "source": [
    "## 3) Creating an empty tensor\n",
    "- creating a tensor with set dimensions filled with very small or large numbers\n",
    "- we use ``` torch.empty(x,y,z,...) ``` we can make a tensor filled with  very small or large number of any valid dimension with it"
   ]
  },
  {
   "cell_type": "code",
   "execution_count": 6,
   "id": "cf15befa-f69e-4dfb-985f-478d1c368ad1",
   "metadata": {},
   "outputs": [
    {
     "name": "stdout",
     "output_type": "stream",
     "text": [
      "tensor([[0., 0., 0., 0., 0., 0.],\n",
      "        [0., 0., 0., 0., 0., 0.],\n",
      "        [0., 0., 0., 0., 0., 0.]])\n",
      "tensor([[0, 0, 0, 0],\n",
      "        [0, 0, 0, 0],\n",
      "        [0, 0, 0, 0]])\n"
     ]
    }
   ],
   "source": [
    "empty = torch.empty(3,6)\n",
    "print(empty)\n",
    "\n",
    "emptyType = torch.empty((3,4), dtype=torch.int64)\n",
    "print(emptyType)"
   ]
  },
  {
   "cell_type": "markdown",
   "id": "b190455d-aadc-4040-bacb-c0f83ff03425",
   "metadata": {},
   "source": [
    "## 4) Creating a sorted tensor\n",
    "- we use ``` torch.arange() ``` to create a tensor that is sorted, we can pass in a step value and start and end values so that it is sorted and has values which go from start to finish with the step value as difference between each value. If we just pass in a number it will have a step valye of 1 and end after that many numbers (the number is treated as the end value)"
   ]
  },
  {
   "cell_type": "code",
   "execution_count": 7,
   "id": "5563fa95-9375-41b6-80ec-bfe47c626dbb",
   "metadata": {},
   "outputs": [
    {
     "name": "stdout",
     "output_type": "stream",
     "text": [
      "tensor([0, 1, 2, 3, 4, 5, 6])\n"
     ]
    }
   ],
   "source": [
    "aranged = torch.arange(7)\n",
    "print(aranged)"
   ]
  },
  {
   "cell_type": "markdown",
   "id": "1fd79e01-f70e-4919-9de4-77dcbb382a17",
   "metadata": {},
   "source": [
    "## 5) Using linspace to create a tensor\n",
    "- linspace takes in a start end and step value it goes from start to end in that many steps. in arrange the step is the differnce between each value, in linspace steps is the amount of total values that should be there.\n",
    "- e.g in linspace if you have a step of 4 , there will be 4 values in total and difference is based on the start and end but in arrange the difference will be 4 if the step is 4\n",
    "- a tensor is created with linspace using ``` torch.linspace() ```"
   ]
  },
  {
   "cell_type": "code",
   "execution_count": 8,
   "id": "2c2c2c7c-d3c0-4c54-a3d5-b6df13ba7c37",
   "metadata": {},
   "outputs": [
    {
     "name": "stdout",
     "output_type": "stream",
     "text": [
      "tensor([19.0000, 20.5000, 22.0000, 23.5000, 25.0000])\n"
     ]
    }
   ],
   "source": [
    "linspace = torch.linspace(19,25, steps=5)\n",
    "print(linspace)"
   ]
  },
  {
   "cell_type": "markdown",
   "id": "ff415b79-1243-45ae-81b8-7abe55303ba8",
   "metadata": {},
   "source": [
    "## 10) Using logspace to create a tensor\n",
    "- same as above but in log"
   ]
  },
  {
   "cell_type": "code",
   "execution_count": 9,
   "id": "9ca2579e-3cc8-4ebb-9c3f-e51183392efb",
   "metadata": {},
   "outputs": [
    {
     "name": "stdout",
     "output_type": "stream",
     "text": [
      "tensor([1.0000e-15, 3.1623e-08, 1.0000e+00, 3.1623e+07, 1.0000e+15])\n"
     ]
    }
   ],
   "source": [
    "logspace = torch.logspace( -15 , 15 , steps=5)\n",
    "print(logspace)"
   ]
  },
  {
   "cell_type": "markdown",
   "id": "8cf549ac-16d7-4c28-91e1-99fc08b641a4",
   "metadata": {},
   "source": [
    "## 11) Creating a tensor with eye\n",
    "- using ``` torch.eye() ``` we make a tensor with diagonal 1s , kinda looks like reduced row echelon form"
   ]
  },
  {
   "cell_type": "code",
   "execution_count": 10,
   "id": "e02f41d2-a954-4c57-bbec-7312fad5f383",
   "metadata": {},
   "outputs": [
    {
     "name": "stdout",
     "output_type": "stream",
     "text": [
      "tensor([[1., 0., 0., 0., 0.],\n",
      "        [0., 1., 0., 0., 0.],\n",
      "        [0., 0., 1., 0., 0.],\n",
      "        [0., 0., 0., 1., 0.],\n",
      "        [0., 0., 0., 0., 1.]])\n"
     ]
    }
   ],
   "source": [
    "eye = torch.eye(5)\n",
    "print(eye)"
   ]
  },
  {
   "cell_type": "markdown",
   "id": "b3d7fcff-933f-43ae-b1cc-8e4c18b15771",
   "metadata": {},
   "source": [
    "## 12) Using empty like to make a tensor\n",
    "- create an empty tensor like the one that is passed in (sane dimensions)"
   ]
  },
  {
   "cell_type": "code",
   "execution_count": 11,
   "id": "8ac9c86b-7f14-476f-9c20-1c0e06f82d5d",
   "metadata": {},
   "outputs": [
    {
     "name": "stdout",
     "output_type": "stream",
     "text": [
      "tensor([[0., 0., 0., 0., 0.],\n",
      "        [0., 0., 0., 0., 0.],\n",
      "        [0., 0., 0., 0., 0.],\n",
      "        [0., 0., 0., 0., 0.],\n",
      "        [0., 0., 0., 0., 0.]])\n"
     ]
    }
   ],
   "source": [
    "like = torch.empty_like(eye)\n",
    "print(like)"
   ]
  },
  {
   "cell_type": "markdown",
   "id": "3145ba13-479a-4ba3-9f17-ad7f95cca725",
   "metadata": {},
   "source": [
    "## 13) Multinomial distrubtion with tensors\n",
    "- we will use this for predictions\n",
    "    - [ 0 ,    1]\n",
    "    - [0.3,  0.7]\n",
    "    - 0.3 is index 0 , 0.7 is index 1\n",
    "    - 0.3 * 100 = 30%\n",
    "    - <u> \\+ 0.7 * 100 = 70% </u>\n",
    "    - 1 * 100 = 100%"
   ]
  },
  {
   "cell_type": "code",
   "execution_count": 12,
   "id": "aaf8ea26-bd88-4b27-a7d6-e842f028b1b5",
   "metadata": {},
   "outputs": [
    {
     "name": "stdout",
     "output_type": "stream",
     "text": [
      "tensor([1, 1, 1, 1, 1, 1, 1, 1, 1, 1])\n"
     ]
    }
   ],
   "source": [
    "probabilities = torch.tensor([0.3,0.7]) #30% , 70% , adds up to 100%\n",
    "# 30% chance we get 0 (index), 70% change we get 1 (index)\n",
    "\n",
    "distributed = torch.multinomial(probabilities, num_samples=10, replacement=True)\n",
    "\n",
    "print(distributed)"
   ]
  },
  {
   "cell_type": "markdown",
   "id": "bf5c1890-a7e4-4c14-9748-860988b67465",
   "metadata": {},
   "source": [
    "## 14) Concatanating tensors\n",
    "- we will use this while generating texts, we will concatnate what we predicted with what we are predicting nopw and so on\n",
    "- e.g. [1,2,3,4] with [8,9,5,4] combined to make one tensor [1,2,3,4,8,9,5,4] which decoded back might be 'yungting' for example"
   ]
  },
  {
   "cell_type": "code",
   "execution_count": 13,
   "id": "a420566b-902e-47cf-9289-e3bccc4fa2b1",
   "metadata": {},
   "outputs": [
    {
     "name": "stdout",
     "output_type": "stream",
     "text": [
      "tensor([1, 2, 3, 4, 5, 6, 7, 8])\n"
     ]
    }
   ],
   "source": [
    "tensor1 = torch.tensor([1,2,3,4])\n",
    "tensor2 = torch.tensor([5,6,7,8])\n",
    "\n",
    "combined = torch.cat((tensor1,tensor2),dim=0)\n",
    "\n",
    "print(combined)"
   ]
  },
  {
   "cell_type": "markdown",
   "id": "c8127c20-bfa6-4ef0-a641-aa8b28ae6b53",
   "metadata": {},
   "source": [
    "## 15) Using tril (Triangle Lower)\n",
    "- this blocks the future and gives one more context each time so that so that there is more knowledge/history as you go down so that we wont predict while seeing/ copying the answer\n",
    "- tril means triangle lower as when you go lower more future context is there"
   ]
  },
  {
   "cell_type": "code",
   "execution_count": 14,
   "id": "68b1819c-b1e9-459b-9509-0bbd072cfa7f",
   "metadata": {
    "scrolled": true
   },
   "outputs": [
    {
     "name": "stdout",
     "output_type": "stream",
     "text": [
      "tensor([[1., 0., 0., 0., 0., 0.],\n",
      "        [1., 1., 0., 0., 0., 0.],\n",
      "        [1., 1., 1., 0., 0., 0.],\n",
      "        [1., 1., 1., 1., 0., 0.],\n",
      "        [1., 1., 1., 1., 1., 0.],\n",
      "        [1., 1., 1., 1., 1., 1.]])\n",
      "tensor([[19.1000,  0.0000,  0.0000,  0.0000,  0.0000,  0.0000],\n",
      "        [ 0.6000,  0.4000,  0.0000,  0.0000,  0.0000,  0.0000],\n",
      "        [ 1.8000,  2.0000,  3.0000,  0.0000,  0.0000,  0.0000],\n",
      "        [19.1000, 25.0600,  3.0000,  4.0000,  0.0000,  0.0000],\n",
      "        [ 0.6000,  0.4000,  3.0000,  4.0000,  5.0000,  0.0000],\n",
      "        [ 1.8000,  2.0000,  3.0000,  4.0000,  5.0000,  6.0000]])\n"
     ]
    }
   ],
   "source": [
    "tril = torch.tril(torch.ones(6,6))\n",
    "anotherTensor = torch.tensor([[19.10,25.06,3,4,5,6],[0.6,0.4,3,4,5,6],[1.8,2.0,3,4,5,6],[19.10,25.06,3,4,5,6],[0.6,0.4,3,4,5,6],[1.8,2.0,3,4,5,6]])\n",
    "tril2 = torch.tril(anotherTensor)\n",
    "print(tril)\n",
    "print(tril2)"
   ]
  },
  {
   "cell_type": "markdown",
   "id": "0b4fbfba-de90-4a0c-ad4f-d0e9ad22c3dd",
   "metadata": {},
   "source": [
    "## 16) Using triu (Triangle Upper)\n",
    "- opposite of triangle lower shown above\n"
   ]
  },
  {
   "cell_type": "code",
   "execution_count": 15,
   "id": "0e7ec8b6-67e3-40e8-98ac-fb5fdc4df78a",
   "metadata": {},
   "outputs": [
    {
     "name": "stdout",
     "output_type": "stream",
     "text": [
      "tensor([[1., 1., 1., 1., 1.],\n",
      "        [0., 1., 1., 1., 1.],\n",
      "        [0., 0., 1., 1., 1.],\n",
      "        [0., 0., 0., 1., 1.],\n",
      "        [0., 0., 0., 0., 1.]])\n"
     ]
    }
   ],
   "source": [
    "triu = torch.triu(torch.ones(5,5))\n",
    "print(triu)"
   ]
  },
  {
   "cell_type": "markdown",
   "id": "ab36bfb6-6e9e-4529-886b-0a35f821c736",
   "metadata": {},
   "source": [
    "## 17) Masked fill & exponentiation\n",
    "- very important\n",
    "- to reach the stage above , all that needs to be done is exponentiate each element ,explained better with the example below :\n",
    "- e.g.\n",
    "    - the  ```torcj.exp()``` function uses a constant of 2.71\n",
    "    - when 2.71 is exponentiated with 0 it results in 1\n",
    "    - when it is exponentiated with 1 it results in 2.71\n",
    "    - when it is exponentiated with '-inf'it results in 0"
   ]
  },
  {
   "cell_type": "code",
   "execution_count": 16,
   "id": "610ab727-39b6-44c0-92e1-966936c51633",
   "metadata": {},
   "outputs": [
    {
     "name": "stdout",
     "output_type": "stream",
     "text": [
      "masked : \n",
      "tensor([[0., -inf, -inf, -inf, -inf, -inf],\n",
      "        [0., 0., -inf, -inf, -inf, -inf],\n",
      "        [0., 0., 0., -inf, -inf, -inf],\n",
      "        [0., 0., 0., 0., -inf, -inf],\n",
      "        [0., 0., 0., 0., 0., -inf],\n",
      "        [0., 0., 0., 0., 0., 0.]])\n",
      "\n",
      "exponentiated : \n"
     ]
    },
    {
     "data": {
      "text/plain": [
       "tensor([[1., 0., 0., 0., 0., 0.],\n",
       "        [1., 1., 0., 0., 0., 0.],\n",
       "        [1., 1., 1., 0., 0., 0.],\n",
       "        [1., 1., 1., 1., 0., 0.],\n",
       "        [1., 1., 1., 1., 1., 0.],\n",
       "        [1., 1., 1., 1., 1., 1.]])"
      ]
     },
     "execution_count": 16,
     "metadata": {},
     "output_type": "execute_result"
    }
   ],
   "source": [
    "masked_fill = torch.zeros(6,6).masked_fill(torch.tril(torch.ones(6,6)) == 0, float('-inf'))\n",
    "print('masked : ')\n",
    "print(masked_fill)\n",
    "print()\n",
    "print('exponentiated : ')\n",
    "torch.exp(masked_fill)"
   ]
  },
  {
   "cell_type": "markdown",
   "id": "7969a06d-b5ee-492f-a997-21841585fb97",
   "metadata": {},
   "source": [
    "## 18) Transposing tensors\n",
    "- for the example below we swap the 0 index with index 2"
   ]
  },
  {
   "cell_type": "code",
   "execution_count": 17,
   "id": "1cc306cd-fbbe-464b-aa18-e1cab24f8b2a",
   "metadata": {},
   "outputs": [
    {
     "data": {
      "text/plain": [
       "torch.Size([5, 4, 3])"
      ]
     },
     "execution_count": 17,
     "metadata": {},
     "output_type": "execute_result"
    }
   ],
   "source": [
    "to_transpose = torch.zeros(3,4,5)\n",
    "transposed = to_transpose.transpose(0, 2)\n",
    "transposed.shape"
   ]
  },
  {
   "cell_type": "markdown",
   "id": "cee15c58-0874-4437-827c-d164dacd3e5a",
   "metadata": {},
   "source": [
    "## 19) torch stack\n",
    "- we will use this for batches soon , if we have a bunch of one dimensionals we can stack to make two dimenionals, we can also stack two dimensionals to make three dimensionals and so on"
   ]
  },
  {
   "cell_type": "code",
   "execution_count": 18,
   "id": "d03c8843-67c5-4e1f-b37f-de4aaabb4c3b",
   "metadata": {},
   "outputs": [
    {
     "name": "stdout",
     "output_type": "stream",
     "text": [
      "tensor([[1, 2, 3],\n",
      "        [4, 5, 6],\n",
      "        [7, 8, 9]])\n"
     ]
    }
   ],
   "source": [
    "tensorA = torch.tensor([1,2,3])\n",
    "tensorB = torch.tensor([4,5,6])\n",
    "tensorC = torch.tensor([7,8,9])\n",
    "\n",
    "tensor_stacked = torch.stack([tensorA,tensorB,tensorC])\n",
    "print(tensor_stacked)"
   ]
  },
  {
   "cell_type": "markdown",
   "id": "6d50ae5f-1e8b-4aac-b2b7-27a0da0aad04",
   "metadata": {},
   "source": [
    "## 20) nn. Module\n",
    "- very important and we will use it a lot\n",
    "- nn module contains stuff with learnable parameters\n",
    "- when you add a bias it will learn and train with that bias, learnable\n",
    "- mostly just layers\n",
    "- example below we don't have a bias, how it works:\n",
    "    - we have an input of tensor([7.,7.,7.])\n",
    "    - we apply an linear transformayion on it"
   ]
  },
  {
   "cell_type": "code",
   "execution_count": 19,
   "id": "ed5d3cf2-d28d-4cc6-a505-d48a34849111",
   "metadata": {},
   "outputs": [
    {
     "name": "stdout",
     "output_type": "stream",
     "text": [
      "tensor([-3.1440, -1.9018, -0.5780], grad_fn=<SqueezeBackward4>)\n"
     ]
    }
   ],
   "source": [
    "import torch.nn as nn\n",
    "\n",
    "sample = torch.tensor([7.,7.,7.])\n",
    "\n",
    "linear = nn.Linear(3,3, bias=False)\n",
    "\n",
    "print(linear(sample))"
   ]
  },
  {
   "cell_type": "markdown",
   "id": "6836ce4f-0c1c-4e6e-99c7-e6a12650b479",
   "metadata": {},
   "source": [
    "## 21) Softmax function \n",
    "- we exponentiate each value and divide the exponentiated value by the sum of all the exponentiated values\n",
    "- e.g. showing the math behind for the code below :\n",
    "    - exponentiation of each num :\n",
    "        - 2.71...^2 = 7.3891\n",
    "        - 2.71...^3 = 20.0855\n",
    "        - 2.71...^4 = 54.5981\n",
    "    - total = 7.3891 + 20.0855 + 54.5981 = 82.0727\n",
    "    - divide each exponentiated value by the sum of 82.0727 :\n",
    "        -  7.3891 / 82.0727 = 0.0900311553\n",
    "        - 20.0855 / 82.0727 = 0.24472814955\n",
    "        - 54.5981 / 82.0727 = 0.66524069514\n",
    "    - make a tensor with the values ``` torch.tensor([0.0900311553,0.24472814955,0.66524069514]) ```\n",
    "    - this give same result as using the softmax function"
   ]
  },
  {
   "cell_type": "code",
   "execution_count": 20,
   "id": "e120ede1-5835-462f-85f1-63fc4407f6eb",
   "metadata": {},
   "outputs": [
    {
     "name": "stdout",
     "output_type": "stream",
     "text": [
      "tensor([0.0900, 0.2447, 0.6652])\n"
     ]
    }
   ],
   "source": [
    "import torch.nn.functional as F\n",
    "\n",
    "tensorF = torch.tensor([2.0,3.0,4.0])\n",
    "soft_max = F.softmax(tensorF, dim=0)\n",
    "\n",
    "print(soft_max)"
   ]
  },
  {
   "cell_type": "markdown",
   "id": "f63b7587-4c8f-446d-8c99-df059f77c964",
   "metadata": {},
   "source": [
    "## 22) Matrix Multiplication\n",
    "- "
   ]
  },
  {
   "cell_type": "code",
   "execution_count": 21,
   "id": "cc986606-c496-4ffa-8c40-b5fea14f481e",
   "metadata": {},
   "outputs": [
    {
     "name": "stdout",
     "output_type": "stream",
     "text": [
      "tensor([[ 27,  30,  33],\n",
      "        [ 61,  68,  75],\n",
      "        [ 95, 106, 117]])\n",
      "tensor([[ 27,  30,  33],\n",
      "        [ 61,  68,  75],\n",
      "        [ 95, 106, 117]])\n"
     ]
    }
   ],
   "source": [
    "tensorW = torch.tensor([[1,2],[3,4],[5,6]])\n",
    "tensorQ = torch.tensor([[7,8,9],[10,11,12]])\n",
    "print(tensorW @ tensorQ)\n",
    "mul_result = torch.matmul(tensorW,tensorQ)\n",
    "print(mul_result)"
   ]
  },
  {
   "cell_type": "markdown",
   "id": "1fc8aec0-7aaf-4ec3-824e-67365473be11",
   "metadata": {},
   "source": [
    "## 23) Vector embedding\n",
    "- l"
   ]
  },
  {
   "cell_type": "code",
   "execution_count": 22,
   "id": "4d0b8988-ebad-4fbc-94c3-edc51741f951",
   "metadata": {},
   "outputs": [
    {
     "name": "stdout",
     "output_type": "stream",
     "text": [
      "torch.Size([4, 100])\n"
     ]
    }
   ],
   "source": [
    "vocabulary_size = 10000\n",
    "embedding_dimension = 100\n",
    "\n",
    "embedding = nn.Embedding(vocabulary_size, embedding_dimension)\n",
    "\n",
    "input_indices = torch.LongTensor([1,5,3,2])\n",
    "\n",
    "embedded_output = embedding(input_indices)\n",
    "\n",
    "print(embedded_output.shape)"
   ]
  },
  {
   "cell_type": "markdown",
   "id": "07afadb9-29f5-474e-ba91-d895ca3e0203",
   "metadata": {},
   "source": [
    "#### Before continuing or completing explanation for vector embedding just go over the Linear_Yung_Ting_Revision.pdf quickly as a reresher for the math involved"
   ]
  },
  {
   "cell_type": "markdown",
   "id": "8b5b8010-8048-40a6-8a89-440a4ffc4583",
   "metadata": {},
   "source": [
    "## 24) the matrix mul from ipad in code \n",
    "- this is simpler and we can use the gpu to scale more calculations"
   ]
  },
  {
   "cell_type": "code",
   "execution_count": 23,
   "id": "c5fd55f8-1085-459e-9985-8ab36f6cd6a6",
   "metadata": {},
   "outputs": [
    {
     "name": "stdout",
     "output_type": "stream",
     "text": [
      "tensor([[ 27,  30,  33],\n",
      "        [ 61,  68,  75],\n",
      "        [ 95, 106, 117]])\n"
     ]
    }
   ],
   "source": [
    "tensor_a = torch.tensor([[1,2],[3,4],[5,6]])\n",
    "tensor_b = torch.tensor([[7,8,9],[10,11,12]])\n",
    "print(tensor_a @ tensor_b)"
   ]
  },
  {
   "cell_type": "markdown",
   "id": "edd20332-e1f5-476c-97b1-82a0ccbcfd8b",
   "metadata": {},
   "source": [
    "## 25) matrix mul of int and float matrices\n",
    "- if you have to do a float and int always better to convert the int to float as when you try and convert float to int there will be rounding\n",
    "- you can only matrix mul the same types together"
   ]
  },
  {
   "cell_type": "code",
   "execution_count": 24,
   "id": "ae4061b4-3762-462b-9a32-2719905e8eea",
   "metadata": {},
   "outputs": [
    {
     "name": "stdout",
     "output_type": "stream",
     "text": [
      "tensor([[0., 0., 0.],\n",
      "        [0., 0., 0.],\n",
      "        [0., 0., 0.]])\n"
     ]
    }
   ],
   "source": [
    "int_tensor = torch.randint(1,(3,4)).float()\n",
    "float_tensor = torch.rand(4,3)\n",
    "\n",
    "print(int_tensor @ float_tensor)"
   ]
  },
  {
   "cell_type": "markdown",
   "id": "60a88770-0c9e-44f4-9952-50fc5f012176",
   "metadata": {},
   "source": [
    "## 26) Tensor Shape and reshape\n",
    "- you can get the shape of the tensor using .shape\n",
    "- you can use view to reshape the tensor as shown"
   ]
  },
  {
   "cell_type": "code",
   "execution_count": 40,
   "id": "5d15ad4c-33a3-472b-b6c0-031bc668694a",
   "metadata": {},
   "outputs": [
    {
     "name": "stdout",
     "output_type": "stream",
     "text": [
      "2 3 5\n",
      "torch.Size([2, 3, 5])\n",
      "tensor([[[0.6788, 0.5161, 0.6100, 0.4892, 0.3879],\n",
      "         [0.1979, 0.2356, 0.1491, 0.0714, 0.3703],\n",
      "         [0.7914, 0.8634, 0.3329, 0.0193, 0.6528]],\n",
      "\n",
      "        [[0.5112, 0.6584, 0.9677, 0.4133, 0.5212],\n",
      "         [0.4956, 0.8592, 0.3825, 0.4282, 0.1891],\n",
      "         [0.1159, 0.3159, 0.1288, 0.3981, 0.2595]]])\n",
      "torch.Size([2, 5, 3])\n",
      "tensor([[[0.6788, 0.5161, 0.6100],\n",
      "         [0.4892, 0.3879, 0.1979],\n",
      "         [0.2356, 0.1491, 0.0714],\n",
      "         [0.3703, 0.7914, 0.8634],\n",
      "         [0.3329, 0.0193, 0.6528]],\n",
      "\n",
      "        [[0.5112, 0.6584, 0.9677],\n",
      "         [0.4133, 0.5212, 0.4956],\n",
      "         [0.8592, 0.3825, 0.4282],\n",
      "         [0.1891, 0.1159, 0.3159],\n",
      "         [0.1288, 0.3981, 0.2595]]])\n"
     ]
    }
   ],
   "source": [
    "tensor_s = torch.rand(2, 3, 5)\n",
    "x, y, z = tensor_s.shape\n",
    "print(x, y, z)\n",
    "print(tensor_s.shape)\n",
    "print(tensor_s)\n",
    "tensor_s = tensor_s.view(x, z, y)\n",
    "print(tensor_s.shape)\n",
    "print(tensor_s)"
   ]
  },
  {
   "cell_type": "code",
   "execution_count": null,
   "id": "88145c72-9783-4095-b644-4d006a7d245b",
   "metadata": {},
   "outputs": [],
   "source": []
  },
  {
   "cell_type": "markdown",
   "id": "36847cd2-051e-4ec3-88ed-275b00b422bf",
   "metadata": {},
   "source": [
    "# CPU vs GPU "
   ]
  },
  {
   "cell_type": "code",
   "execution_count": 25,
   "id": "f17da2a7-ce65-41f6-b751-72f4001c23d1",
   "metadata": {},
   "outputs": [
    {
     "name": "stdout",
     "output_type": "stream",
     "text": [
      "mps\n"
     ]
    }
   ],
   "source": [
    "device = 'cuda' if torch.cuda.is_available() else 'mps' if torch.backends.mps.is_available() else 'cpu'\n",
    "print(device)"
   ]
  },
  {
   "cell_type": "markdown",
   "id": "41bdd6c7-31d2-43ae-a46b-197be2bfc985",
   "metadata": {},
   "source": [
    "## 24) how long does our gpu take for creating a 1x1 tensor with zeros?"
   ]
  },
  {
   "cell_type": "code",
   "execution_count": 26,
   "id": "55c36b8e-54b9-426c-a7f8-a5c87f92390c",
   "metadata": {
    "scrolled": true
   },
   "outputs": [],
   "source": [
    "# %%time\n",
    "# start_time = time.time()\n",
    "\n",
    "# zeros = torch.zeros(1,1)\n",
    "\n",
    "# end_time = time.time()\n",
    "\n",
    "# time_elapsed = end_time - start_time\n",
    "# print(f\"{time_elapsed:.1000f}\")"
   ]
  },
  {
   "cell_type": "markdown",
   "id": "128a4b00-92af-4f7b-93c2-366da0f8cdb0",
   "metadata": {},
   "source": [
    "- since the above example is quite simple and too small we cannot see how much time it takes ,we can copare a calculation that is done with numpy on cpu and the same with torch on gpu for a better comparison below : "
   ]
  },
  {
   "cell_type": "code",
   "execution_count": 29,
   "id": "4b233a3e-acb9-463a-8e06-07fc9ddbd998",
   "metadata": {},
   "outputs": [],
   "source": [
    "# %%time\n",
    "# # #pls change this to 10k or lower based on your hardware i have a fully specced out pc with a 4090 so wanted to play around hahah\n",
    "# torch_rand1 = torch.rand(40000, 40000).to(device)\n",
    "# torch_rand2 = torch.rand(40000, 40000).to(device)\n",
    "# np_rand1 = torch.rand(40000,40000)\n",
    "# np_rand2 = torch.rand(40000,40000)\n",
    "\n",
    "# print(\"torch using gpu: \")\n",
    "\n",
    "# start_time = time.time()\n",
    "\n",
    "# rand = (torch_rand1 @ torch_rand2)\n",
    "\n",
    "# end_time = time.time()\n",
    "# time_elapsed = end_time - start_time\n",
    "# print(f\"{time_elapsed:.10f}\")\n",
    "\n",
    "\n",
    "# print(\"numpy using cpu: \")\n",
    "\n",
    "# start_time = time.time()\n",
    "\n",
    "# rand = np.multiply(np_rand1, np_rand2)\n",
    "# end_time = time.time()\n",
    "# time_elapsed = end_time - start_time\n",
    "# print(f\"{time_elapsed:.10f}\")"
   ]
  },
  {
   "cell_type": "code",
   "execution_count": null,
   "id": "722625a9-03b9-43c6-b13f-8e6efa5bf253",
   "metadata": {},
   "outputs": [],
   "source": []
  }
 ],
 "metadata": {
  "kernelspec": {
   "display_name": "yungting-gpt",
   "language": "python",
   "name": "yugpt"
  },
  "language_info": {
   "codemirror_mode": {
    "name": "ipython",
    "version": 3
   },
   "file_extension": ".py",
   "mimetype": "text/x-python",
   "name": "python",
   "nbconvert_exporter": "python",
   "pygments_lexer": "ipython3",
   "version": "3.12.3"
  }
 },
 "nbformat": 4,
 "nbformat_minor": 5
}
