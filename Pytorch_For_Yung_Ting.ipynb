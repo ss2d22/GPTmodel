{
 "cells": [
  {
   "cell_type": "code",
   "execution_count": 1,
   "id": "d14f49a7-df11-47e2-a7e7-be6946e517e8",
   "metadata": {},
   "outputs": [
    {
     "name": "stdout",
     "output_type": "stream",
     "text": [
      "2.4.0+cu124\n"
     ]
    }
   ],
   "source": [
    "import torch\n",
    "print(torch.__version__)"
   ]
  },
  {
   "cell_type": "markdown",
   "id": "3366f293-d71e-4409-856a-33925f708d46",
   "metadata": {},
   "source": [
    "## 1) Generate tensors with random numbers\n",
    "- we can generate a tensor with specific number of random numbers in a specified range.\n",
    "- we will use this while getting random batches from our training data (e.g. the romeo and juliet book)"
   ]
  },
  {
   "cell_type": "code",
   "execution_count": 7,
   "id": "0fc23b14-cb89-4bbf-b05f-97a7342fade3",
   "metadata": {},
   "outputs": [
    {
     "name": "stdout",
     "output_type": "stream",
     "text": [
      "tensor([ 59, -83, -30, -33,  54,  26])\n"
     ]
    }
   ],
   "source": [
    "randint = torch.randint(-100,100, (6,))\n",
    "print(randint)"
   ]
  },
  {
   "cell_type": "markdown",
   "id": "284ef2ee-d765-4296-bf8b-f50d1788c26e",
   "metadata": {},
   "source": [
    "## 2) Creating tensors\n",
    "- we use ``` torch.tensor() ``` to create a tensor where pass in values to create a tensor"
   ]
  },
  {
   "cell_type": "code",
   "execution_count": 9,
   "id": "38c9b4b9-637a-4def-abae-e48b1d8aa211",
   "metadata": {},
   "outputs": [
    {
     "name": "stdout",
     "output_type": "stream",
     "text": [
      "tensor([[19.1000, 25.0600],\n",
      "        [ 0.6000,  0.4000],\n",
      "        [ 1.8000,  2.0000]])\n"
     ]
    }
   ],
   "source": [
    "tensor = torch.tensor([[19.10,25.06],[0.6,0.4],[1.8,2.0]])\n",
    "print(tensor)"
   ]
  },
  {
   "cell_type": "markdown",
   "id": "dcba7062-b8c1-4254-9470-4fc00420d82c",
   "metadata": {},
   "source": [
    "## 3) Creating a tensor filled with zeros\n",
    "- creating a tensor with set dimensions filled with zeros\n",
    "- we use ``` torch.zeros(x,y,z,...) ``` we can make a tensor filled with 0s of any valid dimension with it"
   ]
  },
  {
   "cell_type": "code",
   "execution_count": 14,
   "id": "a29cedc5-d630-4011-9bb9-c3b1ffcfd0c6",
   "metadata": {},
   "outputs": [
    {
     "name": "stdout",
     "output_type": "stream",
     "text": [
      "tensor([[0., 0., 0.],\n",
      "        [0., 0., 0.]])\n"
     ]
    }
   ],
   "source": [
    "zeros = torch.zeros(2,3)\n",
    "print(zeros)"
   ]
  },
  {
   "cell_type": "markdown",
   "id": "64dc35a1-55a8-4d54-bdce-d8ed7ac66122",
   "metadata": {},
   "source": [
    "## 3) Creating a tensor filled with ones\n",
    "- creating a tensor with set dimensions filled with ones\n",
    "- we use ``` torch.ones(x,y,z,...) ``` we can make a tensor filled with 1s of any valid dimension with it"
   ]
  },
  {
   "cell_type": "code",
   "execution_count": 15,
   "id": "ddc77408-3558-4f94-83c4-e48c1493bc81",
   "metadata": {},
   "outputs": [
    {
     "name": "stdout",
     "output_type": "stream",
     "text": [
      "tensor([[1., 1., 1.],\n",
      "        [1., 1., 1.]])\n"
     ]
    }
   ],
   "source": [
    "ones = torch.ones(2,3)\n",
    "print(ones)"
   ]
  },
  {
   "cell_type": "markdown",
   "id": "f3493c62-6b7a-4d73-8c25-d9442c987f48",
   "metadata": {},
   "source": [
    "## 3) Creating an empty tensor\n",
    "- creating a tensor with set dimensions filled with very small or large numbers\n",
    "- we use ``` torch.empty(x,y,z,...) ``` we can make a tensor filled with  very small or large number of any valid dimension with it"
   ]
  },
  {
   "cell_type": "code",
   "execution_count": null,
   "id": "cf15befa-f69e-4dfb-985f-478d1c368ad1",
   "metadata": {},
   "outputs": [],
   "source": []
  }
 ],
 "metadata": {
  "kernelspec": {
   "display_name": "yungting-gpt",
   "language": "python",
   "name": "yugpt"
  },
  "language_info": {
   "codemirror_mode": {
    "name": "ipython",
    "version": 3
   },
   "file_extension": ".py",
   "mimetype": "text/x-python",
   "name": "python",
   "nbconvert_exporter": "python",
   "pygments_lexer": "ipython3",
   "version": "3.12.4"
  }
 },
 "nbformat": 4,
 "nbformat_minor": 5
}
